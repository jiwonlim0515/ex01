{
 "cells": [
  {
   "cell_type": "code",
   "execution_count": 50,
   "id": "1cbf71dd",
   "metadata": {},
   "outputs": [
    {
     "name": "stdout",
     "output_type": "stream",
     "text": [
      "인덱스위치입력10\n",
      "노래 제목을 입력1\n",
      "가수입력1\n",
      "music_list [['1', '1']]\n"
     ]
    }
   ],
   "source": [
    "index = int(input(\"인덱스위치입력\"))\n",
    "song = input(\"노래 제목을 입력\")\n",
    "singer = input(\"가수입력\")\n",
    "music_list = []\n",
    "music_list.insert(index,[song,singer])\n",
    "print(\"music_list\",music_list)\n"
   ]
  },
  {
   "cell_type": "markdown",
   "id": "67b78212",
   "metadata": {},
   "source": [
    "# 리스트 값 수정하는 \n",
    "list6 = [1,2,3,4,5]\n",
    "list6\n",
    "print('수정전',list6[1])\n",
    "list6[1] =7\n",
    "print('수정 후',list6[1])\n",
    "list6[1:5] =[7]\n",
    "print(list6)"
   ]
  },
  {
   "cell_type": "code",
   "execution_count": null,
   "id": "5fd2085f",
   "metadata": {},
   "outputs": [],
   "source": [
    "array =[1,2,3,4,5]\n",
    "array[-1] = 7\n",
    "print(array)\n",
    "array[1] =['a','b','c']\n",
    "print(array)\n",
    "array [-2]=['d','e','f','g']\n",
    "print(array)"
   ]
  },
  {
   "cell_type": "code",
   "execution_count": null,
   "id": "b8744f6b",
   "metadata": {},
   "outputs": [],
   "source": [
    "#값을 삭제 하는 방법\n",
    "#del 이라는 키워드 if문이랑 똑같다 함수x\n",
    "#사용방법 del list7[1] \n",
    "list7 = [0,1,2,3,4,5]\n",
    "del list7[1:4]\n",
    "list7\n",
    "#remove 를 이용해서  값 삭제\n",
    "#리스트는 가지고 있는 값만 지울수있따\n",
    "#똑같은 걸 지울라 하면 두번써야한다\n",
    "list8 =['a','b','c','d']\n",
    "list8.remove('d')\n",
    "list8"
   ]
  },
  {
   "cell_type": "code",
   "execution_count": null,
   "id": "f7b8a70a",
   "metadata": {},
   "outputs": [],
   "source": [
    "#리스트에 있는 값을 보기 좋게 오른 차순으로 보기 좋게 정리 하는 방법\n",
    "#sort\n",
    "list9 = [9,33,55,22,111,3]\n",
    "list9.sort()\n",
    "list9"
   ]
  },
  {
   "cell_type": "code",
   "execution_count": null,
   "id": "99097ed0",
   "metadata": {},
   "outputs": [],
   "source": [
    "#reverse()- 리벌스란 함수 리스트에 있는 값을 역순으로\n",
    "list9 = [9,33,55,22,111,3]\n",
    "list9.reverse()\n",
    "list9"
   ]
  },
  {
   "cell_type": "code",
   "execution_count": null,
   "id": "327b72ca",
   "metadata": {},
   "outputs": [],
   "source": [
    "#솔트로 정렬하고 뒤로 돌리기 원래\n",
    "#true값이 역순이기 때문에 false값으로 넣으면 정방향으로 사용가능\n",
    "list9.sort(reverse =False)\n",
    "print(list9)\n"
   ]
  },
  {
   "cell_type": "code",
   "execution_count": null,
   "id": "abc54680",
   "metadata": {},
   "outputs": [],
   "source": [
    "#index()찾고자 하는 값을 위치를 반환\n",
    "list11 = ['a','b','c','d','e','c','c']\n",
    "list11.index('c')"
   ]
  },
  {
   "cell_type": "code",
   "execution_count": null,
   "id": "f00aee29",
   "metadata": {},
   "outputs": [],
   "source": [
    "#카운터 찾고자 하는 값이 몇번이 들어가있는지\n",
    "#count()\n",
    "list11.count('c')\n"
   ]
  },
  {
   "cell_type": "code",
   "execution_count": null,
   "id": "5b1d7fc9",
   "metadata": {},
   "outputs": [],
   "source": [
    "#마지막 값을 반환 후 삭제\n",
    "#pop()\n",
    "list11.pop()\n",
    "list11\n"
   ]
  },
  {
   "cell_type": "code",
   "execution_count": null,
   "id": "84667de8",
   "metadata": {},
   "outputs": [],
   "source": [
    "#len(리스트) 리스트 값 개수 반환\n",
    "len(list11)\n",
    "list12 =[0,1,2,4\n",
    "        ]\n",
    "len(list12)\n"
   ]
  },
  {
   "cell_type": "markdown",
   "id": "f4e34395",
   "metadata": {},
   "source": [
    "# 튜플(tuple)\n",
    "- 리스트랑 비슷하다 \n",
    "- 가장 큰 특징 메모리 아끼고 변화를 안주기 위해 고정값으로 매기기 위해\n",
    "- 파이썬 자료구조형태\n",
    "- 순서가 있는 집합\n",
    "- 소괄호()로 작성되어지며 튜플의 내부 값은,로 구분\n",
    "- 추가,삭제,수정 불가능\n"
   ]
  },
  {
   "cell_type": "code",
   "execution_count": null,
   "id": "8ba213d2",
   "metadata": {},
   "outputs": [],
   "source": [
    "#ADD처럼 리스트 처럼 추가 이런게 안된다 인덱싱이나 슬라이싱 값이 \n",
    "#가져오는 정도는 가능\n",
    "a =()\n",
    "b =(1,2,3)\n",
    "c = ('my','name')\n",
    "d = (1,2,'my','name')\n",
    "e = (1,2,('my','name'))\n",
    "type(a)\n",
    "print(b)\n",
    "print(c)\n",
    "print(d)\n",
    "print(e [1])"
   ]
  },
  {
   "cell_type": "code",
   "execution_count": null,
   "id": "97edaa5b",
   "metadata": {},
   "outputs": [],
   "source": [
    "tuple1 = (0,1,2,3,('a','b','c'),5)\n",
    "tuple1[2]"
   ]
  },
  {
   "cell_type": "code",
   "execution_count": null,
   "id": "da83f182",
   "metadata": {},
   "outputs": [],
   "source": [
    "tuple1[4]"
   ]
  },
  {
   "cell_type": "code",
   "execution_count": null,
   "id": "29b3a0d4",
   "metadata": {},
   "outputs": [],
   "source": [
    "#튜플 슬라이싱\n",
    "tuple1[:3]"
   ]
  },
  {
   "cell_type": "code",
   "execution_count": null,
   "id": "68a9f30a",
   "metadata": {},
   "outputs": [],
   "source": [
    "#몇개가 들어있는지\n",
    "len(tuple1)"
   ]
  },
  {
   "cell_type": "markdown",
   "id": "c690d1fd",
   "metadata": {},
   "source": [
    "# 데이터의 포함 여부 확인 "
   ]
  },
  {
   "cell_type": "code",
   "execution_count": null,
   "id": "416f8c6d",
   "metadata": {},
   "outputs": [],
   "source": [
    "#인과 낫인을 사용할수 있는데(in,nt)"
   ]
  },
  {
   "cell_type": "code",
   "execution_count": null,
   "id": "3f16218e",
   "metadata": {},
   "outputs": [],
   "source": [
    "#파이썬이 들어있는지 안들어 있는지 확인\n",
    "#파이썬이 들어 있으니깐 \n",
    "str1 =\"파이썬 최고\"\n",
    "\"파이썬\" in str1"
   ]
  },
  {
   "cell_type": "code",
   "execution_count": null,
   "id": "22c54c6f",
   "metadata": {},
   "outputs": [],
   "source": [
    "#낫인같은 경우 이 걸 바꿔준다\n",
    "\"파이썬\" not in str1\n"
   ]
  },
  {
   "cell_type": "code",
   "execution_count": null,
   "id": "2fa812df",
   "metadata": {},
   "outputs": [],
   "source": [
    "#숫자열 정수형 같다\n",
    "list1 =[77,38,10]\n",
    "33 in list1\n",
    "33 not in list1"
   ]
  },
  {
   "cell_type": "code",
   "execution_count": null,
   "id": "57583e2d",
   "metadata": {},
   "outputs": [],
   "source": [
    "#숫자열 정수형 같다\n",
    "list1 =[77,38,10]\n",
    "33 in list1\n",
    "33 not in list1"
   ]
  },
  {
   "cell_type": "code",
   "execution_count": null,
   "id": "ac6a88b9",
   "metadata": {},
   "outputs": [],
   "source": [
    "list_fruit = ['딸기','바나나', '수박','체리','포도']\n",
    "num1= input(\"검색할 문자를 입력하세요>>\")\n",
    "if num1 in list_fruit:\n",
    "    print(f'{num1}리스트에 {list_fruit.index(num1)}쨰 인덱스에 있습니다')\n",
    "else:\n",
    "    print(f'{num1}리스트에 들어있지 않습니다')"
   ]
  },
  {
   "cell_type": "code",
   "execution_count": null,
   "id": "28680278",
   "metadata": {},
   "outputs": [],
   "source": [
    "s='Hi,My name is bomi'"
   ]
  },
  {
   "cell_type": "code",
   "execution_count": null,
   "id": "cafca4be",
   "metadata": {},
   "outputs": [],
   "source": [
    "input_s= input(\"검색할 문자를 입력하세요\")\n",
    "if input_s in s:\n",
    "    print(f'{input_s}는 문자열에 {s.count(input_s)}번 들어있습니다')\n",
    "else:\n",
    "    print(f'{input_s}는 문자열에 들어있찌 않습니다.')"
   ]
  },
  {
   "cell_type": "markdown",
   "id": "cc59cd70",
   "metadata": {},
   "source": [
    "# 반복문\n",
    "-반복문 반복문 자바=for while 뜻은 똑같다\n",
    "-사용 방법 while 조건식 실행문장 실행문장\n",
    "- 흐름도 시작-조건식-실행문장-끝\n",
    "-저장 변수 - while조건 걸어준다 -프린트 출력할꺼- 변수에 값을 하나씩 저장해줄꺼"
   ]
  },
  {
   "cell_type": "code",
   "execution_count": null,
   "id": "be6f50ab",
   "metadata": {},
   "outputs": [],
   "source": [
    "\n",
    "num = 0\n",
    "while num<13:\n",
    "    num+=1\n",
    "    print(f'{num}파이썬 최고')"
   ]
  },
  {
   "cell_type": "code",
   "execution_count": null,
   "id": "39ea55f5",
   "metadata": {},
   "outputs": [],
   "source": [
    "#와일문 사용 조건이 무조건 true\n",
    "while(True):\n",
    "    print('지원')\n",
    "    break"
   ]
  },
  {
   "cell_type": "code",
   "execution_count": null,
   "id": "08fb703a",
   "metadata": {},
   "outputs": [],
   "source": [
    "#와일문사용해서 1부터 추가\n",
    "number = 1\n",
    "while True:\n",
    "    number+=1\n",
    "    print(number)\n",
    "    if number > 3:\n",
    "        break"
   ]
  },
  {
   "cell_type": "code",
   "execution_count": null,
   "id": "58b649ec",
   "metadata": {},
   "outputs": [],
   "source": [
    "num1=0\n",
    "num = 0\n",
    "\n",
    "while True:\n",
    "    num =int(input('첫번쨰 정수 입력'))\n",
    "    num1=int(input('두번쨰 정수 입력'))\n",
    "    if num ==0 and num1==0:\n",
    "     \n",
    "        break\n",
    "    print('두 수의 합 : %d'%(num1+num))\n",
    "print('프로그램이 종료됩니다')\n",
    "    \n",
    "    \n"
   ]
  },
  {
   "cell_type": "code",
   "execution_count": 49,
   "id": "c3160020",
   "metadata": {},
   "outputs": [
    {
     "name": "stdout",
     "output_type": "stream",
     "text": [
      "현재몸무게90\n",
      "목표 몸무게80\n",
      "1주차 감량 몸무게:1\n",
      "2주차 감량 몸무게:9\n",
      "3주차 감량 몸무게:10\n",
      "70달성 축하합니다\n"
     ]
    }
   ],
   "source": [
    "weight= int(input('현재몸무게'))\n",
    "goal = int(input('목표 몸무게'))\n",
    "week= 1\n",
    "while True:\n",
    "    week_weight = int(input(f'{week}주차 감량 몸무게:'))\n",
    "    week +=1\n",
    "    weight -= week_weight\n",
    "    if weight < goal:\n",
    "        break\n",
    "print(f'{weight}달성 축하합니다')"
   ]
  },
  {
   "cell_type": "code",
   "execution_count": 2,
   "id": "2a039064",
   "metadata": {},
   "outputs": [
    {
     "name": "stdout",
     "output_type": "stream",
     "text": [
      "햄버거\n",
      "피자\n",
      "치킨\n"
     ]
    }
   ],
   "source": [
    "#for 문 먼저 for키워드 +변수 +in+문자열(or 리스트 or 튜플):\n",
    "#인덱스 튜플 순서가 있다\n",
    "#뮨자열을 변수에 하나씩 담아준다\n",
    "#안녕하세요 하나에 담는다\n",
    "#for문에 사용하는 변수는 아무거나 설정해도된다\n",
    "list_food = [\"햄버거\",\"피자\",\"치킨\"]\n",
    "for food in list_food:\n",
    "    print(food)"
   ]
  },
  {
   "cell_type": "code",
   "execution_count": 1,
   "id": "fdd64071",
   "metadata": {},
   "outputs": [
    {
     "name": "stdout",
     "output_type": "stream",
     "text": [
      "안\n",
      "녕\n",
      "하\n",
      "세\n",
      "요\n"
     ]
    }
   ],
   "source": [
    "s = '안녕하세요'\n",
    "\n",
    "for i in s:\n",
    "    print(i)\n",
    "\n"
   ]
  },
  {
   "cell_type": "code",
   "execution_count": 3,
   "id": "a64b6e32",
   "metadata": {},
   "outputs": [
    {
     "name": "stdout",
     "output_type": "stream",
     "text": [
      "0번 학생 합격\n",
      "(num)번 학생 불합격\n",
      "0번 학생 합격\n",
      "0번 학생 합격\n",
      "(num)번 학생 불합격\n"
     ]
    }
   ],
   "source": [
    "score_list=[90,45,70,60,55]\n",
    "num = 0\n",
    "for result in score_list:\n",
    "    num+1\n",
    "    if result>=60:\n",
    "        print(f'{num}번 학생 합격')\n",
    "    else:\n",
    "        print(f'(num)번 학생 불합격')"
   ]
  },
  {
   "cell_type": "code",
   "execution_count": null,
   "id": "71eee537",
   "metadata": {},
   "outputs": [],
   "source": []
  }
 ],
 "metadata": {
  "kernelspec": {
   "display_name": "Python 3 (ipykernel)",
   "language": "python",
   "name": "python3"
  },
  "language_info": {
   "codemirror_mode": {
    "name": "ipython",
    "version": 3
   },
   "file_extension": ".py",
   "mimetype": "text/x-python",
   "name": "python",
   "nbconvert_exporter": "python",
   "pygments_lexer": "ipython3",
   "version": "3.9.7"
  }
 },
 "nbformat": 4,
 "nbformat_minor": 5
}
