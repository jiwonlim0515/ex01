{
 "cells": [
  {
   "cell_type": "markdown",
   "id": "90a86901",
   "metadata": {},
   "source": [
    "# 삼항연산자\n",
    "- a if 조건식 else b\n",
    "- 파이썬은 true면 a 실행 아니면 b실행"
   ]
  },
  {
   "cell_type": "code",
   "execution_count": 8,
   "id": "3461d54f",
   "metadata": {},
   "outputs": [
    {
     "name": "stdout",
     "output_type": "stream",
     "text": [
      "정수입력>1\n",
      "정수입력>3\n",
      "b:3\n"
     ]
    }
   ],
   "source": [
    "score = 80\n",
    "'합격'if score >=60 else '불합격'"
   ]
  },
  {
   "cell_type": "code",
   "execution_count": 7,
   "id": "e650bdaf",
   "metadata": {},
   "outputs": [
    {
     "name": "stdout",
     "output_type": "stream",
     "text": [
      "정수입력>3\n",
      "정수입력>10\n",
      "b:10\n"
     ]
    }
   ],
   "source": [
    "a=int(input(\"정수입력>\"))\n",
    "b =int(input(\"정수입력>\"))\n",
    "print(f'b:{b}') if a<b else print(f'a:{a}')"
   ]
  },
  {
   "cell_type": "code",
   "execution_count": 2,
   "id": "038f54f0",
   "metadata": {},
   "outputs": [
    {
     "ename": "SyntaxError",
     "evalue": "f-string: expecting '}' (Temp/ipykernel_9684/2345524012.py, line 4)",
     "output_type": "error",
     "traceback": [
      "\u001b[1;36m  File \u001b[1;32m\"C:\\Users\\smhrd\\AppData\\Local\\Temp/ipykernel_9684/2345524012.py\"\u001b[1;36m, line \u001b[1;32m4\u001b[0m\n\u001b[1;33m    print(f'num2-num1:{'num2-num1'}') if  num1<num2 else print(f'num1-num2:{num1-num2}')\u001b[0m\n\u001b[1;37m                        ^\u001b[0m\n\u001b[1;31mSyntaxError\u001b[0m\u001b[1;31m:\u001b[0m f-string: expecting '}'\n"
     ]
    }
   ],
   "source": [
    "#두개의 정수를 입력받아 큰 수에서 작은수를 뺸 결과값 출력\n",
    "num1=int(input(\"첫번째 정수입력>\"))\n",
    "num2 =int(input(\"두번쨰 정수입력>\"))\n",
    "print(f'num2-num1:{num2-num1}') if  num1<num2 else print(f'num1-num2:{num1-num2}') "
   ]
  },
  {
   "cell_type": "code",
   "execution_count": 14,
   "id": "0b451e08",
   "metadata": {},
   "outputs": [
    {
     "name": "stdout",
     "output_type": "stream",
     "text": [
      "첫번째 정수입력>1\n",
      "홀수입니다:1\n"
     ]
    }
   ],
   "source": [
    "num3=int(input(\"첫번째 정수입력>\"))\n",
    "\n",
    "print(f'\"짝수입니다\":{num3}') if  num3%2==0 else print(f'홀수입니다:{num3}') "
   ]
  },
  {
   "cell_type": "markdown",
   "id": "d95192aa",
   "metadata": {},
   "source": []
  },
  {
   "cell_type": "markdown",
   "id": "a7890823",
   "metadata": {},
   "source": [
    "# 조건문\n",
    "- 상황에 따라 실행 르름을 다르게 하는방법\n",
    "- if elif(else if) else\n",
    "- if 조건식:\n",
    "- 들여쓰기 실행문장(print) 들여쓰기 안하면 true,false떄 둘다 실행된다\n",
    "- 글자 초록색 사용된다 빨간색 안된다"
   ]
  },
  {
   "cell_type": "code",
   "execution_count": 15,
   "id": "a15fac93",
   "metadata": {},
   "outputs": [
    {
     "name": "stdout",
     "output_type": "stream",
     "text": [
      "실행문장\n"
     ]
    }
   ],
   "source": [
    "if True:\n",
    "    print('실행문장')    "
   ]
  },
  {
   "cell_type": "code",
   "execution_count": 34,
   "id": "61a5ef78",
   "metadata": {},
   "outputs": [
    {
     "name": "stdout",
     "output_type": "stream",
     "text": [
      "가지고 있는돈8000\n",
      "택시를 안탄다\n"
     ]
    }
   ],
   "source": [
    "money = int(input('가지고 있는돈'))\n",
    "if money>=10000:\n",
    "    print('택시를 탄다')\n",
    "else:\n",
    "    print(\"택시를 안탄다\")"
   ]
  },
  {
   "cell_type": "code",
   "execution_count": 38,
   "id": "340157e6",
   "metadata": {},
   "outputs": [
    {
     "name": "stdout",
     "output_type": "stream",
     "text": [
      "현재 잔액10000\n",
      "택시를 탄다\n"
     ]
    }
   ],
   "source": [
    "mom = int(input(\"현재 잔액\"))\n",
    "print(\"택시를 탄다\") if mom>=10000 else print(\"버스를 탄다\")"
   ]
  },
  {
   "cell_type": "code",
   "execution_count": 44,
   "id": "1d5cb74a",
   "metadata": {},
   "outputs": [
    {
     "name": "stdout",
     "output_type": "stream",
     "text": [
      "정수입력>>7\n",
      "3과 5의 배수가 아닙니다\n"
     ]
    }
   ],
   "source": [
    "num =int(input(\"정수입력>>\"))\n",
    "if num%3 ==0 and num%5 ==0:\n",
    "    print('{}과{}의 배수입니다.format{3,5}')\n",
    "else:\n",
    "    print('3과 5의 배수가 아닙니다')\n",
    "    "
   ]
  },
  {
   "cell_type": "code",
   "execution_count": 46,
   "id": "195abe22",
   "metadata": {},
   "outputs": [
    {
     "name": "stdout",
     "output_type": "stream",
     "text": [
      "첫번쨰 정수 입력>>1\n",
      "두번쨰 정수 입력>>1\n",
      "두수가 똑갑습니다\n"
     ]
    }
   ],
   "source": [
    "num1 = int(input(\"첫번쨰 정수 입력>>\"))\n",
    "num2 = int(input(\"두번쨰 정수 입력>>\"))\n",
    "if num1>num2:\n",
    "    print(\"첫번쨰 정수가 더 큽니다\")\n",
    "elif num2>num1:\n",
    "    print(\"두번쨰 정수가 더 큽니다\")\n",
    "else:\n",
    "    print(\"두수가 똑갑습니다\")\n"
   ]
  },
  {
   "cell_type": "code",
   "execution_count": 61,
   "id": "eb8f6006",
   "metadata": {},
   "outputs": [
    {
     "name": "stdout",
     "output_type": "stream",
     "text": [
      "첫번쨰 정수 입력>>30\n",
      "30점은 d학점 입니다\n"
     ]
    }
   ],
   "source": [
    "\n",
    "score = int(input(\"첫번쨰 정수 입력>>\"))\n",
    "if score<=100 and score>=90:\n",
    "    grade=\"a\"\n",
    "elif score<=90 and score>=80:\n",
    "   grade=\"b\"\n",
    "elif score<=80 and score>=70:\n",
    "   grade=\"c\"\n",
    "else:\n",
    "    grade=\"d\"\n",
    "print(\"{}점은 {}학점 입니다\".format(score,grade))\n"
   ]
  },
  {
   "cell_type": "code",
   "execution_count": 70,
   "id": "b9d47d58",
   "metadata": {},
   "outputs": [
    {
     "name": "stdout",
     "output_type": "stream",
     "text": [
      "돈을 투입해주세요1900\n",
      "메뉴를 입력해주세요1\n",
      "천원7:오백원80:백원4\n"
     ]
    }
   ],
   "source": [
    "insertcoin = int(input(\"돈을 투입해주세요\"))\n",
    "menu = int(input(\"메뉴를 입력해주세요\"))\n",
    "if menu==1:\n",
    "    change = money - 600\n",
    "elif menu==2:\n",
    "    change=money - 800\n",
    "elif menu==3:\n",
    "    change = money -1000\n",
    "if change <0: \n",
    "    print(\"잔액이 부족합니다\")\n",
    "else:\n",
    "    ch_1000 = change//1000\n",
    "    ch_500 = change % 1000 // 500\n",
    "    ch_100 = change % 1000 % 500 //100\n",
    "    print(\"천원{}:오백원{}:백원{}\".format(ch_1000,ch_500,ch_100))"
   ]
  },
  {
   "cell_type": "markdown",
   "id": "b457a3b5",
   "metadata": {},
   "source": [
    "# list,tupe\n",
    " - 리스트랑 튜플 2종류가 있다 \n",
    " - 공통점 타입과 상관없이 일련의 요소를 갖을 수 있따\n",
    " - 요소의 순서를 관리한다\n",
    " - 차이점 리스트는 가변적이며 튜플은 변할수없다\n",
    " - 리스트는 요소가 몇개 들어갈지 명확하지 않은 경우에사용\n",
    " - 튜플은 전에 몇개를 사용 할지 정확하게 알고 있을떄만\n",
    "- 리스트란\n",
    "- 배열이랑 비슷하다\n",
    "-  파이썬 자료 구조중에 하나\n",
    "- 순서가 있는(인덱스를 가지고 있다)수정가능한(객체의 집합)=추가,삭제,수정가능\n",
    "- 대괄호에 값을 하나하나 넣는다 작성 리스트 내부의 값은 콤마 구분\n",
    "- 인덱싱,슬라이싱 가능하다\n",
    "- 변수 선생님 하나에 스마트 인재 개발원을 출력해주고 싶은데 30명 다 넣기 힘들어서\n",
    "-스마트 인제 개발원에 선생님들을 다 넣는다\n",
    "-리스티명(변수명) = [요소1.요소2,요소3] "
   ]
  },
  {
   "cell_type": "code",
   "execution_count": 75,
   "id": "a0a79e12",
   "metadata": {},
   "outputs": [
    {
     "name": "stdout",
     "output_type": "stream",
     "text": [
      "[1, 2, ['my', 'name']]\n"
     ]
    },
    {
     "data": {
      "text/plain": [
       "list"
      ]
     },
     "execution_count": 75,
     "metadata": {},
     "output_type": "execute_result"
    }
   ],
   "source": [
    "a=[]\n",
    "b=[1,2,3]\n",
    "c =['my','name']\n",
    "d = [1,2,'my','name']\n",
    "e = [1,2,['my','name']]\n",
    "print(e)\n",
    "type(a)"
   ]
  },
  {
   "cell_type": "code",
   "execution_count": 8,
   "id": "0e341462",
   "metadata": {},
   "outputs": [
    {
     "name": "stdout",
     "output_type": "stream",
     "text": [
      "2\n",
      "7\n",
      "17\n",
      "[1, 2, 3, ['a', 'b', 'c']]\n",
      "['a', 'b', 'c']\n",
      "b\n",
      "b\n"
     ]
    }
   ],
   "source": [
    "list1 = [2,5,7,9,10]\n",
    "#인덱싱 가르키는거 한번 2를 가져온다\n",
    "print(list1[0])\n",
    "print(list1[2])\n",
    "print(list1[2]+list1[-1])\n",
    "list2 =[1,2,3,['a','b','c']]\n",
    "print(list2)\n",
    "temp = list2[3]\n",
    "print(temp)\n",
    "print(temp[1])\n",
    "print(list2[3][1])"
   ]
  },
  {
   "cell_type": "code",
   "execution_count": 12,
   "id": "ed44c051",
   "metadata": {},
   "outputs": [
    {
     "name": "stdout",
     "output_type": "stream",
     "text": [
      "[1, 2]\n",
      "[0, 1]\n"
     ]
    }
   ],
   "source": [
    "#슬라이싱 \n",
    "list3 =[0,1,2,3,4]\n",
    "print(list3[1:3])\n",
    "print(list3[:2])\n",
    "#리스티 끼리 더해주기\n",
    "list4=[1,2,3]\n",
    "list5=[3,4,5,6]\n",
    "list4+list5"
   ]
  },
  {
   "cell_type": "code",
   "execution_count": 14,
   "id": "93231280",
   "metadata": {},
   "outputs": [
    {
     "data": {
      "text/plain": [
       "[0, 1, 2, 3, 4, 5]"
      ]
     },
     "execution_count": 14,
     "metadata": {},
     "output_type": "execute_result"
    }
   ],
   "source": [
    "#리스트 추가 삭제 수정 (append 함수를 활용한 값 추가=맨뒤에 값이 추가된다)\n",
    "list6 =[0,1,2,3,4]\n",
    "list6.append(5)\n",
    "list6"
   ]
  },
  {
   "cell_type": "code",
   "execution_count": 18,
   "id": "ba206cc1",
   "metadata": {},
   "outputs": [
    {
     "name": "stdout",
     "output_type": "stream",
     "text": [
      "['사과', '수박', '오렌지']\n"
     ]
    }
   ],
   "source": [
    "list10 = ['사과','포도',['수박','멜론'],'복숭아','딸기','오렌지']\n",
    "list_apple=list10[0]\n",
    "list_wetermelon = list10[2][0]\n",
    "list_orange = list10[5]\n",
    "choice_list =[]\n",
    "choice_list.append(list_apple)\n",
    "choice_list.append(list_wetermelon)\n",
    "choice_list.append(list_orange)\n",
    "print(choice_list)\n",
    "\n"
   ]
  },
  {
   "cell_type": "code",
   "execution_count": 1,
   "id": "04e39a80",
   "metadata": {},
   "outputs": [
    {
     "name": "stdout",
     "output_type": "stream",
     "text": [
      "[0, 5, 1, 2, 3, 4]\n"
     ]
    }
   ],
   "source": [
    "#append랑 똑같은 추가함수 insert()사용 매개변수에 2개가 들어간다\n",
    "#어펜드는 하나만 값이 들어갔따 insert는 위치를 먼저 지정하고 값을 지정해줘야 한다\n",
    "list5 = [0,1,2,3,4]\n",
    "list5.insert(1,5)\n",
    "print(list5)"
   ]
  },
  {
   "cell_type": "code",
   "execution_count": null,
   "id": "85889c6a",
   "metadata": {},
   "outputs": [],
   "source": []
  }
 ],
 "metadata": {
  "kernelspec": {
   "display_name": "Python 3 (ipykernel)",
   "language": "python",
   "name": "python3"
  },
  "language_info": {
   "codemirror_mode": {
    "name": "ipython",
    "version": 3
   },
   "file_extension": ".py",
   "mimetype": "text/x-python",
   "name": "python",
   "nbconvert_exporter": "python",
   "pygments_lexer": "ipython3",
   "version": "3.9.7"
  }
 },
 "nbformat": 4,
 "nbformat_minor": 5
}
